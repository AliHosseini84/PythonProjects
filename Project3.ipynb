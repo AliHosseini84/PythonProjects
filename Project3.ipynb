{
 "cells": [
  {
   "cell_type": "code",
   "execution_count": 43,
   "id": "c5bcbdf6-2a2c-4708-ac00-3471f511c5d0",
   "metadata": {},
   "outputs": [
    {
     "name": "stdout",
     "output_type": "stream",
     "text": [
      "ASSIGNMENT\n"
     ]
    }
   ],
   "source": [
    "print ('ASSIGNMENT')"
   ]
  },
  {
   "cell_type": "code",
   "execution_count": 1,
   "id": "6373e52c-6b51-4d81-b595-a77c6327eccb",
   "metadata": {},
   "outputs": [
    {
     "ename": "NameError",
     "evalue": "name 'b' is not defined",
     "output_type": "error",
     "traceback": [
      "\u001b[31m---------------------------------------------------------------------------\u001b[39m",
      "\u001b[31mNameError\u001b[39m                                 Traceback (most recent call last)",
      "\u001b[36mCell\u001b[39m\u001b[36m \u001b[39m\u001b[32mIn[1]\u001b[39m\u001b[32m, line 3\u001b[39m\n\u001b[32m      1\u001b[39m a = \u001b[32m100\u001b[39m \n\u001b[32m      2\u001b[39m B = \u001b[32m5\u001b[39m - \u001b[32m100\u001b[39m + \u001b[32m65\u001b[39m - \u001b[32m160\u001b[39m\n\u001b[32m----> \u001b[39m\u001b[32m3\u001b[39m c = a * \u001b[43mb\u001b[49m\n\u001b[32m      4\u001b[39m d = -\u001b[32m90124\u001b[39m\n\u001b[32m      5\u001b[39m g = d * \u001b[32m847999\u001b[39m\n",
      "\u001b[31mNameError\u001b[39m: name 'b' is not defined"
     ]
    }
   ],
   "source": [
    "a = 100 \n",
    "B = 5 - 100 + 65 - 160\n",
    "c = a * b\n",
    "d = -90124\n",
    "g = d * 847999\n",
    "q = 0\n",
    "u = 500 ** q\n",
    "ch  = 1000\n",
    "h = www + 5\n",
    "www = 999 // 78 * 423"
   ]
  },
  {
   "cell_type": "code",
   "execution_count": 2,
   "id": "e1c2b5c0-7168-4468-8194-fc8734e4033b",
   "metadata": {},
   "outputs": [
    {
     "ename": "NameError",
     "evalue": "name 'b' is not defined",
     "output_type": "error",
     "traceback": [
      "\u001b[31m---------------------------------------------------------------------------\u001b[39m",
      "\u001b[31mNameError\u001b[39m                                 Traceback (most recent call last)",
      "\u001b[36mCell\u001b[39m\u001b[36m \u001b[39m\u001b[32mIn[2]\u001b[39m\u001b[32m, line 3\u001b[39m\n\u001b[32m      1\u001b[39m a = \u001b[32m100\u001b[39m \n\u001b[32m      2\u001b[39m B = \u001b[32m5\u001b[39m - \u001b[32m100\u001b[39m + \u001b[32m65\u001b[39m - \u001b[32m160\u001b[39m\n\u001b[32m----> \u001b[39m\u001b[32m3\u001b[39m c = a * \u001b[43mb\u001b[49m\n\u001b[32m      4\u001b[39m d = -\u001b[32m90124\u001b[39m\n\u001b[32m      5\u001b[39m g = d * \u001b[32m847999\u001b[39m\n",
      "\u001b[31mNameError\u001b[39m: name 'b' is not defined"
     ]
    }
   ],
   "source": [
    "a = 100 \n",
    "B = 5 - 100 + 65 - 160\n",
    "c = a * b\n",
    "d = -90124\n",
    "g = d * 847999\n",
    "q = 0\n",
    "u = 500 ** q\n",
    "ch  = 1000\n",
    "www = 999 // 78 * 423\n",
    "h = www + 5"
   ]
  },
  {
   "cell_type": "code",
   "execution_count": 4,
   "id": "4cc9de07-e6f4-4784-96e8-7e9f8939820a",
   "metadata": {},
   "outputs": [],
   "source": [
    "a = 100 \n",
    "b = 5 - 100 + 65 - 160\n",
    "c = a * b\n",
    "d = -90124\n",
    "g = d * 847999\n",
    "q = 0\n",
    "u = 500 ** q\n",
    "ch  = 1000\n",
    "www = 999 // 78 * 423\n",
    "h = www + 5"
   ]
  },
  {
   "cell_type": "code",
   "execution_count": 5,
   "id": "02b4cb21-ab25-4ed0-ba73-4e1524482f38",
   "metadata": {},
   "outputs": [
    {
     "name": "stdout",
     "output_type": "stream",
     "text": [
      "100 -190 -19000 -90124 -76425061876 0 1 1000 5076 5081\n"
     ]
    }
   ],
   "source": [
    "print (a, b, c, d, g, q, u, ch, www, h)"
   ]
  },
  {
   "cell_type": "code",
   "execution_count": 6,
   "id": "62a31896-e00b-4074-85fd-ef878a65e3f5",
   "metadata": {},
   "outputs": [
    {
     "data": {
      "text/plain": [
       "-76325061876"
      ]
     },
     "execution_count": 6,
     "metadata": {},
     "output_type": "execute_result"
    }
   ],
   "source": [
    "g + 100000000 "
   ]
  },
  {
   "cell_type": "code",
   "execution_count": 7,
   "id": "047ff1b3-717c-445f-9e18-a284829bb1c9",
   "metadata": {},
   "outputs": [
    {
     "data": {
      "text/plain": [
       "-12502046290973276173148"
      ]
     },
     "execution_count": 7,
     "metadata": {},
     "output_type": "execute_result"
    }
   ],
   "source": [
    "g * 163585687523"
   ]
  },
  {
   "cell_type": "code",
   "execution_count": 10,
   "id": "68523dfa-4336-4bd4-b2b5-6a93936a83c9",
   "metadata": {},
   "outputs": [
    {
     "name": "stdout",
     "output_type": "stream",
     "text": [
      "-190\n"
     ]
    }
   ],
   "source": [
    "print (b)"
   ]
  },
  {
   "cell_type": "code",
   "execution_count": 11,
   "id": "59720380-65d8-4f40-a6a5-85b5e4d97392",
   "metadata": {},
   "outputs": [
    {
     "data": {
      "text/plain": [
       "0"
      ]
     },
     "execution_count": 11,
     "metadata": {},
     "output_type": "execute_result"
    }
   ],
   "source": [
    "b + 190"
   ]
  },
  {
   "cell_type": "code",
   "execution_count": 12,
   "id": "24afed39-559b-4c97-b646-943d04f6d417",
   "metadata": {},
   "outputs": [
    {
     "data": {
      "text/plain": [
       "-36100"
      ]
     },
     "execution_count": 12,
     "metadata": {},
     "output_type": "execute_result"
    }
   ],
   "source": [
    "b * 190"
   ]
  },
  {
   "cell_type": "code",
   "execution_count": 13,
   "id": "bf68d22a-7e64-474f-b3aa-cb4b881718b3",
   "metadata": {},
   "outputs": [
    {
     "data": {
      "text/plain": [
       "4886"
      ]
     },
     "execution_count": 13,
     "metadata": {},
     "output_type": "execute_result"
    }
   ],
   "source": [
    "b + www"
   ]
  },
  {
   "cell_type": "code",
   "execution_count": 14,
   "id": "11c80703-1878-4c2d-a41e-c15047901990",
   "metadata": {},
   "outputs": [
    {
     "data": {
      "text/plain": [
       "4976"
      ]
     },
     "execution_count": 14,
     "metadata": {},
     "output_type": "execute_result"
    }
   ],
   "source": [
    "www - a"
   ]
  },
  {
   "cell_type": "code",
   "execution_count": 15,
   "id": "e06afa66-1089-4336-b462-2504ffeb4c3b",
   "metadata": {},
   "outputs": [
    {
     "name": "stdout",
     "output_type": "stream",
     "text": [
      "5076\n"
     ]
    }
   ],
   "source": [
    "print (www)"
   ]
  },
  {
   "cell_type": "code",
   "execution_count": 18,
   "id": "99fbef51-5d15-477f-a167-4325f5ff7a9d",
   "metadata": {},
   "outputs": [
    {
     "data": {
      "text/plain": [
       "94924.0"
      ]
     },
     "execution_count": 18,
     "metadata": {},
     "output_type": "execute_result"
    }
   ],
   "source": [
    "ch * a - www / u"
   ]
  },
  {
   "cell_type": "code",
   "execution_count": 17,
   "id": "905ad974-aa79-4f7d-bf86-27d5e7b72807",
   "metadata": {},
   "outputs": [
    {
     "name": "stdout",
     "output_type": "stream",
     "text": [
      "1\n"
     ]
    }
   ],
   "source": [
    "print (u)"
   ]
  },
  {
   "cell_type": "code",
   "execution_count": 19,
   "id": "e758d23b-2338-449f-973b-302cf85606c0",
   "metadata": {},
   "outputs": [
    {
     "data": {
      "text/plain": [
       "300"
      ]
     },
     "execution_count": 19,
     "metadata": {},
     "output_type": "execute_result"
    }
   ],
   "source": [
    "a * 3"
   ]
  },
  {
   "cell_type": "code",
   "execution_count": 20,
   "id": "3d9cc626-98a6-4bb1-b7c8-b41df9b8f728",
   "metadata": {},
   "outputs": [
    {
     "data": {
      "text/plain": [
       "5376"
      ]
     },
     "execution_count": 20,
     "metadata": {},
     "output_type": "execute_result"
    }
   ],
   "source": [
    "a * 3 + www"
   ]
  },
  {
   "cell_type": "code",
   "execution_count": 21,
   "id": "57d56143-e477-4262-9a11-c7f86aeb3eb1",
   "metadata": {},
   "outputs": [],
   "source": [
    "awww = 5376"
   ]
  },
  {
   "cell_type": "code",
   "execution_count": 22,
   "id": "d74a987f-c9ed-4e25-a9da-3743e88c65cf",
   "metadata": {},
   "outputs": [
    {
     "name": "stdout",
     "output_type": "stream",
     "text": [
      "5076 5376\n"
     ]
    }
   ],
   "source": [
    "print (www , awww)"
   ]
  },
  {
   "cell_type": "code",
   "execution_count": 23,
   "id": "469372cd-3fe4-4cb3-b3de-0b56028c8ae1",
   "metadata": {},
   "outputs": [
    {
     "data": {
      "text/plain": [
       "5376"
      ]
     },
     "execution_count": 23,
     "metadata": {},
     "output_type": "execute_result"
    }
   ],
   "source": [
    "awww + www * q"
   ]
  },
  {
   "cell_type": "code",
   "execution_count": 24,
   "id": "25807478-56b7-4a9e-a845-18585c3aa9fd",
   "metadata": {},
   "outputs": [
    {
     "data": {
      "text/plain": [
       "0"
      ]
     },
     "execution_count": 24,
     "metadata": {},
     "output_type": "execute_result"
    }
   ],
   "source": [
    "(awww + www) * q"
   ]
  },
  {
   "cell_type": "code",
   "execution_count": 25,
   "id": "0b392c9f-cb87-432a-95cd-874783a5f16b",
   "metadata": {},
   "outputs": [
    {
     "data": {
      "text/plain": [
       "177"
      ]
     },
     "execution_count": 25,
     "metadata": {},
     "output_type": "execute_result"
    }
   ],
   "source": [
    "77 + a "
   ]
  },
  {
   "cell_type": "code",
   "execution_count": 26,
   "id": "2dfcbf02-1964-468e-8ebe-7fd298315026",
   "metadata": {},
   "outputs": [
    {
     "data": {
      "text/plain": [
       "True"
      ]
     },
     "execution_count": 26,
     "metadata": {},
     "output_type": "execute_result"
    }
   ],
   "source": [
    "a == 100"
   ]
  },
  {
   "cell_type": "code",
   "execution_count": 27,
   "id": "dc321e21-133d-453b-99c8-7ee7c8fd5b43",
   "metadata": {},
   "outputs": [
    {
     "data": {
      "text/plain": [
       "100"
      ]
     },
     "execution_count": 27,
     "metadata": {},
     "output_type": "execute_result"
    }
   ],
   "source": [
    "a "
   ]
  },
  {
   "cell_type": "code",
   "execution_count": 28,
   "id": "e76f2ee3-6c47-45bc-b639-8edfeb7d850e",
   "metadata": {},
   "outputs": [
    {
     "data": {
      "text/plain": [
       "False"
      ]
     },
     "execution_count": 28,
     "metadata": {},
     "output_type": "execute_result"
    }
   ],
   "source": [
    "a == b"
   ]
  },
  {
   "cell_type": "code",
   "execution_count": 30,
   "id": "8d0bdc4c-0331-4c11-afca-be03f6155d5a",
   "metadata": {},
   "outputs": [
    {
     "name": "stdout",
     "output_type": "stream",
     "text": [
      "-190\n"
     ]
    }
   ],
   "source": [
    "print (b)"
   ]
  },
  {
   "cell_type": "code",
   "execution_count": 31,
   "id": "30c7b046-cdc1-45da-860b-e407965d6861",
   "metadata": {},
   "outputs": [
    {
     "data": {
      "text/plain": [
       "True"
      ]
     },
     "execution_count": 31,
     "metadata": {},
     "output_type": "execute_result"
    }
   ],
   "source": [
    "b + 290 == a"
   ]
  },
  {
   "cell_type": "code",
   "execution_count": 32,
   "id": "366cea94-2356-4d32-a9d3-595c5213de14",
   "metadata": {},
   "outputs": [
    {
     "data": {
      "text/plain": [
       "True"
      ]
     },
     "execution_count": 32,
     "metadata": {},
     "output_type": "execute_result"
    }
   ],
   "source": [
    "a - 100 == b + 190"
   ]
  },
  {
   "cell_type": "code",
   "execution_count": 33,
   "id": "f3e450a7-18dc-4caa-a0d1-b59a77f2d373",
   "metadata": {},
   "outputs": [
    {
     "data": {
      "text/plain": [
       "-19000"
      ]
     },
     "execution_count": 33,
     "metadata": {},
     "output_type": "execute_result"
    }
   ],
   "source": [
    "a * b"
   ]
  },
  {
   "cell_type": "code",
   "execution_count": 35,
   "id": "a35f0fa5-8b0e-4d92-abe1-a3809c8fbeec",
   "metadata": {},
   "outputs": [
    {
     "data": {
      "text/plain": [
       "507600"
      ]
     },
     "execution_count": 35,
     "metadata": {},
     "output_type": "execute_result"
    }
   ],
   "source": [
    "a * www"
   ]
  },
  {
   "cell_type": "code",
   "execution_count": 36,
   "id": "6b33d10e-9d3c-4398-9755-dadb6c0da2cb",
   "metadata": {},
   "outputs": [
    {
     "data": {
      "text/plain": [
       "1"
      ]
     },
     "execution_count": 36,
     "metadata": {},
     "output_type": "execute_result"
    }
   ],
   "source": [
    "awww ** q"
   ]
  },
  {
   "cell_type": "code",
   "execution_count": 37,
   "id": "687881c4-395d-4db4-9cf8-031307689ff2",
   "metadata": {},
   "outputs": [
    {
     "data": {
      "text/plain": [
       "1"
      ]
     },
     "execution_count": 37,
     "metadata": {},
     "output_type": "execute_result"
    }
   ],
   "source": [
    "a ** q"
   ]
  },
  {
   "cell_type": "code",
   "execution_count": 38,
   "id": "9b4848e4-032b-4161-8041-27161bd4aa52",
   "metadata": {},
   "outputs": [
    {
     "data": {
      "text/plain": [
       "1"
      ]
     },
     "execution_count": 38,
     "metadata": {},
     "output_type": "execute_result"
    }
   ],
   "source": [
    "q ** q"
   ]
  },
  {
   "cell_type": "code",
   "execution_count": 39,
   "id": "6fe86095-f859-44fa-89c9-788403430278",
   "metadata": {},
   "outputs": [
    {
     "data": {
      "text/plain": [
       "1"
      ]
     },
     "execution_count": 39,
     "metadata": {},
     "output_type": "execute_result"
    }
   ],
   "source": [
    "u + q "
   ]
  },
  {
   "cell_type": "code",
   "execution_count": 40,
   "id": "c2f3a83e-8b1d-40a8-ba0c-05eceb2d55be",
   "metadata": {},
   "outputs": [
    {
     "data": {
      "text/plain": [
       "76425156991"
      ]
     },
     "execution_count": 40,
     "metadata": {},
     "output_type": "execute_result"
    }
   ],
   "source": [
    "a + b - d + h - g"
   ]
  },
  {
   "cell_type": "code",
   "execution_count": 41,
   "id": "74d6fd19-8249-4656-abbc-a2ad2977559a",
   "metadata": {},
   "outputs": [
    {
     "data": {
      "text/plain": [
       "True"
      ]
     },
     "execution_count": 41,
     "metadata": {},
     "output_type": "execute_result"
    }
   ],
   "source": [
    "(a + b) * u > (g - d)"
   ]
  },
  {
   "cell_type": "code",
   "execution_count": null,
   "id": "62aded03-275e-4734-8771-949419f93d5e",
   "metadata": {},
   "outputs": [],
   "source": []
  }
 ],
 "metadata": {
  "kernelspec": {
   "display_name": "Python 3 (ipykernel)",
   "language": "python",
   "name": "python3"
  },
  "language_info": {
   "codemirror_mode": {
    "name": "ipython",
    "version": 3
   },
   "file_extension": ".py",
   "mimetype": "text/x-python",
   "name": "python",
   "nbconvert_exporter": "python",
   "pygments_lexer": "ipython3",
   "version": "3.14.0"
  }
 },
 "nbformat": 4,
 "nbformat_minor": 5
}
