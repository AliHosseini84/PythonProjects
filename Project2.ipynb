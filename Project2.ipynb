{
 "cells": [
  {
   "cell_type": "code",
   "execution_count": 39,
   "id": "36c1566f-516a-43f0-bfc7-c35794f9e1ca",
   "metadata": {},
   "outputs": [
    {
     "name": "stdout",
     "output_type": "stream",
     "text": [
      "COMPARISON\n"
     ]
    }
   ],
   "source": [
    "print ('COMPARISON')"
   ]
  },
  {
   "cell_type": "code",
   "execution_count": 1,
   "id": "556e6ef6-6da3-4c43-ac5e-ee81fb39b8c4",
   "metadata": {},
   "outputs": [
    {
     "data": {
      "text/plain": [
       "False"
      ]
     },
     "execution_count": 1,
     "metadata": {},
     "output_type": "execute_result"
    }
   ],
   "source": [
    "4 == 12 "
   ]
  },
  {
   "cell_type": "code",
   "execution_count": 2,
   "id": "c57bc570-63bd-4286-94f1-3b8231ab0250",
   "metadata": {},
   "outputs": [
    {
     "data": {
      "text/plain": [
       "False"
      ]
     },
     "execution_count": 2,
     "metadata": {},
     "output_type": "execute_result"
    }
   ],
   "source": [
    "12 > 556"
   ]
  },
  {
   "cell_type": "code",
   "execution_count": 3,
   "id": "62c5af6a-8252-4f06-a672-eecb2844742a",
   "metadata": {},
   "outputs": [
    {
     "data": {
      "text/plain": [
       "True"
      ]
     },
     "execution_count": 3,
     "metadata": {},
     "output_type": "execute_result"
    }
   ],
   "source": [
    "12 < 556"
   ]
  },
  {
   "cell_type": "code",
   "execution_count": 6,
   "id": "d69bd1d5-0bfa-4f5e-ab94-4d4e5c69e0e2",
   "metadata": {},
   "outputs": [
    {
     "data": {
      "text/plain": [
       "False"
      ]
     },
     "execution_count": 6,
     "metadata": {},
     "output_type": "execute_result"
    }
   ],
   "source": [
    "'asda' == 'adsa'"
   ]
  },
  {
   "cell_type": "code",
   "execution_count": 10,
   "id": "7fa341a1-2b9c-4b44-af62-20afa162a40a",
   "metadata": {},
   "outputs": [
    {
     "data": {
      "text/plain": [
       "True"
      ]
     },
     "execution_count": 10,
     "metadata": {},
     "output_type": "execute_result"
    }
   ],
   "source": [
    "\"A\" != \"a\""
   ]
  },
  {
   "cell_type": "code",
   "execution_count": 14,
   "id": "67290035-eeb1-477c-abbd-de1906dd2659",
   "metadata": {},
   "outputs": [
    {
     "data": {
      "text/plain": [
       "True"
      ]
     },
     "execution_count": 14,
     "metadata": {},
     "output_type": "execute_result"
    }
   ],
   "source": [
    "\"10A\" != \"a10\""
   ]
  },
  {
   "cell_type": "code",
   "execution_count": 12,
   "id": "bffae11b-c48c-4197-87f5-36b79b11db21",
   "metadata": {},
   "outputs": [
    {
     "data": {
      "text/plain": [
       "True"
      ]
     },
     "execution_count": 12,
     "metadata": {},
     "output_type": "execute_result"
    }
   ],
   "source": [
    "\"10A\" != \"A10\""
   ]
  },
  {
   "cell_type": "code",
   "execution_count": 15,
   "id": "552c1331-d337-4ba3-8920-7f9854f26e1b",
   "metadata": {},
   "outputs": [
    {
     "data": {
      "text/plain": [
       "False"
      ]
     },
     "execution_count": 15,
     "metadata": {},
     "output_type": "execute_result"
    }
   ],
   "source": [
    "\"10A\" != \"10A\""
   ]
  },
  {
   "cell_type": "code",
   "execution_count": 16,
   "id": "e553b5fa-cf4e-437d-a5b8-3106c8b39307",
   "metadata": {},
   "outputs": [
    {
     "data": {
      "text/plain": [
       "True"
      ]
     },
     "execution_count": 16,
     "metadata": {},
     "output_type": "execute_result"
    }
   ],
   "source": [
    "\"10A100\" != \"A10100\""
   ]
  },
  {
   "cell_type": "code",
   "execution_count": 17,
   "id": "8e645998-1c56-4fd5-b8c9-d998e47b4659",
   "metadata": {},
   "outputs": [
    {
     "data": {
      "text/plain": [
       "True"
      ]
     },
     "execution_count": 17,
     "metadata": {},
     "output_type": "execute_result"
    }
   ],
   "source": [
    "\"10A100\" != \"A10A100\""
   ]
  },
  {
   "cell_type": "code",
   "execution_count": 18,
   "id": "2396826e-8401-4760-91a1-4a2f8d858927",
   "metadata": {},
   "outputs": [
    {
     "data": {
      "text/plain": [
       "False"
      ]
     },
     "execution_count": 18,
     "metadata": {},
     "output_type": "execute_result"
    }
   ],
   "source": [
    "\"A10A100\" != \"A10A100\""
   ]
  },
  {
   "cell_type": "code",
   "execution_count": 19,
   "id": "b8a437b3-f9fb-4e01-b537-7c9905cbf7a7",
   "metadata": {},
   "outputs": [
    {
     "data": {
      "text/plain": [
       "False"
      ]
     },
     "execution_count": 19,
     "metadata": {},
     "output_type": "execute_result"
    }
   ],
   "source": [
    "'AK47' <= 'A9z'"
   ]
  },
  {
   "cell_type": "code",
   "execution_count": 20,
   "id": "f6225012-4969-4eb9-ab19-92927ac09f35",
   "metadata": {},
   "outputs": [
    {
     "data": {
      "text/plain": [
       "True"
      ]
     },
     "execution_count": 20,
     "metadata": {},
     "output_type": "execute_result"
    }
   ],
   "source": [
    "'AK47' >= 'A9z'"
   ]
  },
  {
   "cell_type": "code",
   "execution_count": 21,
   "id": "fc758f79-db2d-4df7-beef-c88a9bda7f8e",
   "metadata": {},
   "outputs": [
    {
     "data": {
      "text/plain": [
       "False"
      ]
     },
     "execution_count": 21,
     "metadata": {},
     "output_type": "execute_result"
    }
   ],
   "source": [
    "'pir'=='sir'"
   ]
  },
  {
   "cell_type": "code",
   "execution_count": 22,
   "id": "82a79c51-f884-476a-87f6-bb89f1acf254",
   "metadata": {},
   "outputs": [
    {
     "data": {
      "text/plain": [
       "True"
      ]
     },
     "execution_count": 22,
     "metadata": {},
     "output_type": "execute_result"
    }
   ],
   "source": [
    "'pir'<='sir'"
   ]
  },
  {
   "cell_type": "code",
   "execution_count": 23,
   "id": "0b642217-408e-495e-87b6-d1c49e94acef",
   "metadata": {},
   "outputs": [
    {
     "data": {
      "text/plain": [
       "False"
      ]
     },
     "execution_count": 23,
     "metadata": {},
     "output_type": "execute_result"
    }
   ],
   "source": [
    "'pir'>='sir'"
   ]
  },
  {
   "cell_type": "code",
   "execution_count": 24,
   "id": "26b7c550-142c-48ad-8f1a-c83802abc0b4",
   "metadata": {},
   "outputs": [
    {
     "ename": "SyntaxError",
     "evalue": "cannot assign to literal here. Maybe you meant '==' instead of '='? (3631479071.py, line 1)",
     "output_type": "error",
     "traceback": [
      "  \u001b[36mCell\u001b[39m\u001b[36m \u001b[39m\u001b[32mIn[24]\u001b[39m\u001b[32m, line 1\u001b[39m\n\u001b[31m    \u001b[39m\u001b[31m77 =get_ipython().getoutput(' 77')\u001b[39m\n    ^\n\u001b[31mSyntaxError\u001b[39m\u001b[31m:\u001b[39m cannot assign to literal here. Maybe you meant '==' instead of '='?\n"
     ]
    }
   ],
   "source": [
    "77 =! 77 "
   ]
  },
  {
   "cell_type": "code",
   "execution_count": 25,
   "id": "3c5eb155-06ea-4a26-9b41-5c4cdeb84a23",
   "metadata": {},
   "outputs": [
    {
     "data": {
      "text/plain": [
       "False"
      ]
     },
     "execution_count": 25,
     "metadata": {},
     "output_type": "execute_result"
    }
   ],
   "source": [
    "77 != 77 "
   ]
  },
  {
   "cell_type": "code",
   "execution_count": 26,
   "id": "382e34be-7198-478d-825f-05d0a4238f03",
   "metadata": {},
   "outputs": [
    {
     "data": {
      "text/plain": [
       "True"
      ]
     },
     "execution_count": 26,
     "metadata": {},
     "output_type": "execute_result"
    }
   ],
   "source": [
    "77 != '77' "
   ]
  },
  {
   "cell_type": "code",
   "execution_count": 30,
   "id": "1604c208-26a7-4d53-8acd-da1c227725af",
   "metadata": {},
   "outputs": [
    {
     "data": {
      "text/plain": [
       "False"
      ]
     },
     "execution_count": 30,
     "metadata": {},
     "output_type": "execute_result"
    }
   ],
   "source": [
    "'F' == 'F' == 'f' != 'F'"
   ]
  },
  {
   "cell_type": "code",
   "execution_count": 31,
   "id": "517066aa-9531-4d0f-be61-5c473b538c72",
   "metadata": {},
   "outputs": [
    {
     "ename": "SyntaxError",
     "evalue": "cannot assign to comparison (2319122937.py, line 1)",
     "output_type": "error",
     "traceback": [
      "  \u001b[36mCell\u001b[39m\u001b[36m \u001b[39m\u001b[32mIn[31]\u001b[39m\u001b[32m, line 1\u001b[39m\n\u001b[31m    \u001b[39m\u001b[31m'Amin' == 'Amir' =get_ipython().getoutput(\" 'Ali'\")\u001b[39m\n    ^\n\u001b[31mSyntaxError\u001b[39m\u001b[31m:\u001b[39m cannot assign to comparison\n"
     ]
    }
   ],
   "source": [
    "'Amin' == 'Amir' =! 'Ali'"
   ]
  },
  {
   "cell_type": "code",
   "execution_count": 32,
   "id": "eb1061f3-309c-45dd-8ba5-295cad19caac",
   "metadata": {},
   "outputs": [
    {
     "data": {
      "text/plain": [
       "False"
      ]
     },
     "execution_count": 32,
     "metadata": {},
     "output_type": "execute_result"
    }
   ],
   "source": [
    "'Amin' == 'Amir' != 'Ali' "
   ]
  },
  {
   "cell_type": "code",
   "execution_count": 34,
   "id": "5659108f-7573-4789-9d38-d41b2258b113",
   "metadata": {},
   "outputs": [
    {
     "data": {
      "text/plain": [
       "False"
      ]
     },
     "execution_count": 34,
     "metadata": {},
     "output_type": "execute_result"
    }
   ],
   "source": [
    "'Amin' == 'Amir' != 'Ali' > 'Ai'"
   ]
  },
  {
   "cell_type": "code",
   "execution_count": 35,
   "id": "dbfa793f-5586-4054-8e8e-d6f4b7074abb",
   "metadata": {},
   "outputs": [
    {
     "data": {
      "text/plain": [
       "False"
      ]
     },
     "execution_count": 35,
     "metadata": {},
     "output_type": "execute_result"
    }
   ],
   "source": [
    "'Amin' == 'Amir' != 'Ali' < 'Ai'"
   ]
  }
 ],
 "metadata": {
  "kernelspec": {
   "display_name": "Python 3 (ipykernel)",
   "language": "python",
   "name": "python3"
  },
  "language_info": {
   "codemirror_mode": {
    "name": "ipython",
    "version": 3
   },
   "file_extension": ".py",
   "mimetype": "text/x-python",
   "name": "python",
   "nbconvert_exporter": "python",
   "pygments_lexer": "ipython3",
   "version": "3.14.0"
  }
 },
 "nbformat": 4,
 "nbformat_minor": 5
}
