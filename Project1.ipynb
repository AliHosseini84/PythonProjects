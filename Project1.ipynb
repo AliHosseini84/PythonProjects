{
 "cells": [
  {
   "cell_type": "code",
   "execution_count": 58,
   "id": "9c22fccc-16ac-4bf8-874e-b09ead74721e",
   "metadata": {},
   "outputs": [
    {
     "name": "stdout",
     "output_type": "stream",
     "text": [
      "ARITHMETIC\n"
     ]
    }
   ],
   "source": [
    "print ('ARITHMETIC')"
   ]
  },
  {
   "cell_type": "code",
   "execution_count": 5,
   "id": "b37af7bb-8bb2-4fe9-892e-777777788ade",
   "metadata": {},
   "outputs": [
    {
     "data": {
      "text/plain": [
       "186"
      ]
     },
     "execution_count": 5,
     "metadata": {},
     "output_type": "execute_result"
    }
   ],
   "source": [
    "97 + 89 "
   ]
  },
  {
   "cell_type": "code",
   "execution_count": 6,
   "id": "a5666538-2c17-4f6b-a3b8-7f2a2762d3d3",
   "metadata": {},
   "outputs": [
    {
     "data": {
      "text/plain": [
       "3706"
      ]
     },
     "execution_count": 6,
     "metadata": {},
     "output_type": "execute_result"
    }
   ],
   "source": [
    "555 + 1 + 25 * 126"
   ]
  },
  {
   "cell_type": "code",
   "execution_count": 7,
   "id": "0194eb6f-1735-411e-8648-ca72513b20bc",
   "metadata": {},
   "outputs": [
    {
     "data": {
      "text/plain": [
       "672"
      ]
     },
     "execution_count": 7,
     "metadata": {},
     "output_type": "execute_result"
    }
   ],
   "source": [
    "152 + 520 "
   ]
  },
  {
   "cell_type": "code",
   "execution_count": 8,
   "id": "2169acc7-bb38-4be9-bdc6-95b97c43f980",
   "metadata": {},
   "outputs": [
    {
     "data": {
      "text/plain": [
       "84822384211262493033231649725931925403109608453646846170487337084690646874762966785820229672732639396907738666041513765640469681871690195962342015212526949875297"
      ]
     },
     "execution_count": 8,
     "metadata": {},
     "output_type": "execute_result"
    }
   ],
   "source": [
    "97 ** 81"
   ]
  },
  {
   "cell_type": "code",
   "execution_count": 17,
   "id": "188269bd-6a9f-4280-a57b-152a8ebd7763",
   "metadata": {},
   "outputs": [
    {
     "data": {
      "text/plain": [
       "25733505785478367615107164358252046214490685371339768616901761"
      ]
     },
     "execution_count": 17,
     "metadata": {},
     "output_type": "execute_result"
    }
   ],
   "source": [
    "83 ** 32 -(123 * 54) // 3341565412562525525"
   ]
  },
  {
   "cell_type": "code",
   "execution_count": 18,
   "id": "f100ce64-38ce-41c6-ba3f-f8de5936d8e4",
   "metadata": {},
   "outputs": [
    {
     "data": {
      "text/plain": [
       "4004"
      ]
     },
     "execution_count": 18,
     "metadata": {},
     "output_type": "execute_result"
    }
   ],
   "source": [
    "77 * 52"
   ]
  },
  {
   "cell_type": "code",
   "execution_count": 19,
   "id": "82704301-6279-4368-8d63-625613b8f8bb",
   "metadata": {},
   "outputs": [
    {
     "data": {
      "text/plain": [
       "17"
      ]
     },
     "execution_count": 19,
     "metadata": {},
     "output_type": "execute_result"
    }
   ],
   "source": [
    "88 // 5"
   ]
  },
  {
   "cell_type": "code",
   "execution_count": 20,
   "id": "356ce0c9-ad66-4982-9a8e-b2ad13721e89",
   "metadata": {},
   "outputs": [
    {
     "data": {
      "text/plain": [
       "150.24607240437157"
      ]
     },
     "execution_count": 20,
     "metadata": {},
     "output_type": "execute_result"
    }
   ],
   "source": [
    "879841  /  5856"
   ]
  },
  {
   "cell_type": "code",
   "execution_count": 23,
   "id": "8abc5d29-240e-42db-9101-2e10703db7f5",
   "metadata": {},
   "outputs": [
    {
     "data": {
      "text/plain": [
       "819"
      ]
     },
     "execution_count": 23,
     "metadata": {},
     "output_type": "execute_result"
    }
   ],
   "source": [
    "456333 // 557"
   ]
  },
  {
   "cell_type": "code",
   "execution_count": 26,
   "id": "1fb24800-0ba3-466e-a1b7-7d31de54cdce",
   "metadata": {},
   "outputs": [
    {
     "data": {
      "text/plain": [
       "9503411283"
      ]
     },
     "execution_count": 26,
     "metadata": {},
     "output_type": "execute_result"
    }
   ],
   "source": [
    "(99**5) - 1*1*2*32*131**1**1**1*774"
   ]
  },
  {
   "cell_type": "code",
   "execution_count": 27,
   "id": "12f034cb-fb00-4465-bb1b-a230fc204e5f",
   "metadata": {},
   "outputs": [
    {
     "data": {
      "text/plain": [
       "-420"
      ]
     },
     "execution_count": 27,
     "metadata": {},
     "output_type": "execute_result"
    }
   ],
   "source": [
    "100 - 520"
   ]
  },
  {
   "cell_type": "code",
   "execution_count": 28,
   "id": "8d7c674b-c16e-4ac5-970b-914dbfc416ea",
   "metadata": {},
   "outputs": [
    {
     "data": {
      "text/plain": [
       "-6165146314"
      ]
     },
     "execution_count": 28,
     "metadata": {},
     "output_type": "execute_result"
    }
   ],
   "source": [
    "15252 - 6165161566"
   ]
  },
  {
   "cell_type": "code",
   "execution_count": 29,
   "id": "3bd675dd-3311-438e-9118-7b7e2a4695a6",
   "metadata": {},
   "outputs": [
    {
     "data": {
      "text/plain": [
       "'a213q'"
      ]
     },
     "execution_count": 29,
     "metadata": {},
     "output_type": "execute_result"
    }
   ],
   "source": [
    "\"a2\" + \"13q\""
   ]
  },
  {
   "cell_type": "code",
   "execution_count": 33,
   "id": "03198cc0-7218-4c53-b69f-c1a8dd1f1c8d",
   "metadata": {},
   "outputs": [
    {
     "data": {
      "text/plain": [
       "'EWWE'"
      ]
     },
     "execution_count": 33,
     "metadata": {},
     "output_type": "execute_result"
    }
   ],
   "source": [
    " \"EW\" + \"WE\""
   ]
  },
  {
   "cell_type": "code",
   "execution_count": 40,
   "id": "639dd06f-064c-449a-a3e4-c7e7ebb4c99b",
   "metadata": {},
   "outputs": [
    {
     "data": {
      "text/plain": [
       "'EWEWEWEWEWEWEWEWEWEWEWEWEWEWEWEWEWEWEWEWEWEWEWEWEWEWEWEWEWEWEWEWEWEWEWEWEWEWEWEWEWEWEWEWEWEWEWEWEWEWEWEWEWEWEWEWEWEWEWEWEWEWEWEWEWEWEWEWEWEWEWEWEWEWEWEWEW'"
      ]
     },
     "execution_count": 40,
     "metadata": {},
     "output_type": "execute_result"
    }
   ],
   "source": [
    "\"EW\" * 77 "
   ]
  },
  {
   "cell_type": "code",
   "execution_count": 41,
   "id": "ac6bc922-df0e-41d6-a8a9-a8f8b01b50a8",
   "metadata": {},
   "outputs": [
    {
     "data": {
      "text/plain": [
       "'aliamiramin'"
      ]
     },
     "execution_count": 41,
     "metadata": {},
     "output_type": "execute_result"
    }
   ],
   "source": [
    "\"ali\" + \"amir\" + \"amin\""
   ]
  },
  {
   "cell_type": "code",
   "execution_count": 47,
   "id": "d21de772-5d22-4180-896c-cbe86e48e393",
   "metadata": {},
   "outputs": [
    {
     "ename": "TypeError",
     "evalue": "unsupported operand type(s) for -: 'str' and 'str'",
     "output_type": "error",
     "traceback": [
      "\u001b[31m---------------------------------------------------------------------------\u001b[39m",
      "\u001b[31mTypeError\u001b[39m                                 Traceback (most recent call last)",
      "\u001b[36mCell\u001b[39m\u001b[36m \u001b[39m\u001b[32mIn[47]\u001b[39m\u001b[32m, line 1\u001b[39m\n\u001b[32m----> \u001b[39m\u001b[32m1\u001b[39m \u001b[33;43m\"\u001b[39;49m\u001b[33;43mali\u001b[39;49m\u001b[33;43m\"\u001b[39;49m\u001b[43m \u001b[49m\u001b[43m+\u001b[49m\u001b[43m \u001b[49m\u001b[33;43m\"\u001b[39;49m\u001b[33;43mamir\u001b[39;49m\u001b[33;43m\"\u001b[39;49m\u001b[43m \u001b[49m\u001b[43m+\u001b[49m\u001b[43m \u001b[49m\u001b[33;43m\"\u001b[39;49m\u001b[33;43mamin\u001b[39;49m\u001b[33;43m\"\u001b[39;49m\u001b[43m \u001b[49m\u001b[43m-\u001b[49m\u001b[43m \u001b[49m\u001b[33;43m\"\u001b[39;49m\u001b[33;43ma\u001b[39;49m\u001b[33;43m\"\u001b[39;49m\n",
      "\u001b[31mTypeError\u001b[39m: unsupported operand type(s) for -: 'str' and 'str'"
     ]
    }
   ],
   "source": [
    "\"ali\" + \"amir\" + \"amin\" / \"a\""
   ]
  },
  {
   "cell_type": "code",
   "execution_count": 55,
   "id": "0b609b67-8de0-4ec8-a832-62746a825592",
   "metadata": {},
   "outputs": [
    {
     "data": {
      "text/plain": [
       "'a li am irami n'"
      ]
     },
     "execution_count": 55,
     "metadata": {},
     "output_type": "execute_result"
    }
   ],
   "source": [
    "(\"a li \" + \"am ir\" + \"ami n\")"
   ]
  },
  {
   "cell_type": "code",
   "execution_count": 51,
   "id": "7854aa77-6e9d-4501-ab41-b3c3de0090c7",
   "metadata": {},
   "outputs": [
    {
     "name": "stdout",
     "output_type": "stream",
     "text": [
      " li mir min\n"
     ]
    }
   ],
   "source": [
    "names = \"Ali\" + \"Amir\" + \"Amin\" \n",
    "print (names.replace(\"A\", \" \"))"
   ]
  },
  {
   "cell_type": "code",
   "execution_count": null,
   "id": "ed5efd20-d830-4589-a638-5138e4b11524",
   "metadata": {},
   "outputs": [],
   "source": []
  }
 ],
 "metadata": {
  "kernelspec": {
   "display_name": "Python 3 (ipykernel)",
   "language": "python",
   "name": "python3"
  },
  "language_info": {
   "codemirror_mode": {
    "name": "ipython",
    "version": 3
   },
   "file_extension": ".py",
   "mimetype": "text/x-python",
   "name": "python",
   "nbconvert_exporter": "python",
   "pygments_lexer": "ipython3",
   "version": "3.14.0"
  }
 },
 "nbformat": 4,
 "nbformat_minor": 5
}
